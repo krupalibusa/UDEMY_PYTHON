{
  "nbformat": 4,
  "nbformat_minor": 0,
  "metadata": {
    "colab": {
      "provenance": []
    },
    "kernelspec": {
      "name": "python3",
      "display_name": "Python 3"
    },
    "language_info": {
      "name": "python"
    }
  },
  "cells": [
    {
      "cell_type": "code",
      "source": [
        "pip install requests"
      ],
      "metadata": {
        "id": "rotOTVQPYGwa"
      },
      "execution_count": null,
      "outputs": []
    },
    {
      "cell_type": "code",
      "source": [
        "import requests\n",
        "\n",
        "# Making a GET request\n",
        "r = requests.get('https://en.wikipedia.org/wiki/World_Health_Organization')\n",
        "\n",
        "# check status code for response received\n",
        "# success code - 200\n",
        "print(r)\n",
        "\n",
        "# print content of request\n",
        "print(r.content)"
      ],
      "metadata": {
        "id": "7PQLnQwvYKyp"
      },
      "execution_count": null,
      "outputs": []
    },
    {
      "cell_type": "code",
      "source": [
        "pip install beautifulsoup4"
      ],
      "metadata": {
        "id": "hRWQpPevYPxM"
      },
      "execution_count": null,
      "outputs": []
    },
    {
      "cell_type": "code",
      "source": [
        "url = 'https://en.wikipedia.org/wiki/Income_tax_in_India'\n",
        "page = requests.get(url)\n",
        "soup = BeautifulSoup(page.text, 'html')\n",
        "print(soup)"
      ],
      "metadata": {
        "id": "kbRKcfRxYQei"
      },
      "execution_count": null,
      "outputs": []
    },
    {
      "cell_type": "code",
      "source": [
        "soup.find_all('table')[1]"
      ],
      "metadata": {
        "id": "4XlZWJkWYUzq"
      },
      "execution_count": null,
      "outputs": []
    },
    {
      "cell_type": "code",
      "source": [
        "table = soup.find('table',class_=\"wikitable\")\n",
        "table"
      ],
      "metadata": {
        "id": "9XvoutsSYXKD"
      },
      "execution_count": null,
      "outputs": []
    },
    {
      "cell_type": "code",
      "source": [
        "word = table.find_all('th')\n",
        "word"
      ],
      "metadata": {
        "id": "x4gpqvJGYZCl"
      },
      "execution_count": null,
      "outputs": []
    },
    {
      "cell_type": "code",
      "source": [
        "word_title = [title.text.strip() for title in word]\n",
        "word_title"
      ],
      "metadata": {
        "id": "Fg2D2RecYdDz"
      },
      "execution_count": null,
      "outputs": []
    },
    {
      "cell_type": "code",
      "source": [
        "import pandas as pd"
      ],
      "metadata": {
        "id": "wzp4MoNsY9ge"
      },
      "execution_count": null,
      "outputs": []
    },
    {
      "cell_type": "code",
      "source": [
        "df = pd.DataFrame(columns=word_title)\n",
        "df"
      ],
      "metadata": {
        "id": "TH8pxjAgY_f3"
      },
      "execution_count": null,
      "outputs": []
    },
    {
      "cell_type": "code",
      "source": [
        "column_data = table.find_all('tr')\n",
        "column_data"
      ],
      "metadata": {
        "id": "v6pB6vxQZCCe"
      },
      "execution_count": null,
      "outputs": []
    },
    {
      "cell_type": "code",
      "source": [
        "for row in column_data[1:]:\n",
        "    row_data = row.find_all('td')\n",
        "    ind = [data.text.strip() for data in row_data]\n",
        "    length = len(df)\n",
        "    df.loc[length] = ind"
      ],
      "metadata": {
        "id": "05JnE7XBZEOC"
      },
      "execution_count": null,
      "outputs": []
    },
    {
      "cell_type": "code",
      "source": [
        "df"
      ],
      "metadata": {
        "id": "rikcCcA8ZGXM"
      },
      "execution_count": null,
      "outputs": []
    }
  ]
}